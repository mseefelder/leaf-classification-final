{
 "cells": [
  {
   "cell_type": "markdown",
   "metadata": {},
   "source": [
    "## Leaf Classification - Relatório 2\n",
    "\n",
    "Modelos lineares/simples:\n",
    "\n",
    "* Bayesiano (sklearn.naive_bayes)\n",
    "\n",
    "Modelo não-linear:\n",
    "\n",
    "* KNeighborsClassifier\n",
    "\n",
    "Árvore:\n",
    "\n",
    "* Decision tree\n",
    "\n",
    "Ensemble:\n",
    "\n",
    "* Random Forests\n",
    "\n",
    "Redes neurais:\n",
    "\n",
    "* Multi-layer Perceptron ([sklearn.neural_network.MLPClassifier](http://scikit-learn.org/stable/modules/neural_networks_supervised.html#neural-networks-supervised))\n",
    "\n",
    "SVM:\n",
    "\n",
    "* SVC ([sklearn.svm](http://scikit-learn.org/stable/modules/svm.html#svm))"
   ]
  },
  {
   "cell_type": "code",
   "execution_count": 1,
   "metadata": {
    "collapsed": false
   },
   "outputs": [],
   "source": [
    "import numpy as np\n",
    "import pandas as pd\n",
    "import seaborn as sns\n",
    "import matplotlib.pyplot as plt\n",
    "\n",
    "def warn(*args, **kwargs): pass\n",
    "import warnings\n",
    "warnings.warn = warn\n",
    "\n",
    "from sklearn.preprocessing import LabelEncoder\n",
    "from sklearn.cross_validation import StratifiedShuffleSplit\n",
    "\n",
    "train = pd.read_csv('train.csv')\n",
    "test = pd.read_csv('test.csv')"
   ]
  },
  {
   "cell_type": "code",
   "execution_count": 2,
   "metadata": {
    "collapsed": false
   },
   "outputs": [
    {
     "data": {
      "text/html": [
       "<div>\n",
       "<table border=\"1\" class=\"dataframe\">\n",
       "  <thead>\n",
       "    <tr style=\"text-align: right;\">\n",
       "      <th></th>\n",
       "      <th>margin1</th>\n",
       "      <th>margin2</th>\n",
       "      <th>margin3</th>\n",
       "      <th>margin4</th>\n",
       "      <th>margin5</th>\n",
       "      <th>margin6</th>\n",
       "      <th>margin7</th>\n",
       "      <th>margin8</th>\n",
       "      <th>margin9</th>\n",
       "      <th>margin10</th>\n",
       "      <th>...</th>\n",
       "      <th>texture55</th>\n",
       "      <th>texture56</th>\n",
       "      <th>texture57</th>\n",
       "      <th>texture58</th>\n",
       "      <th>texture59</th>\n",
       "      <th>texture60</th>\n",
       "      <th>texture61</th>\n",
       "      <th>texture62</th>\n",
       "      <th>texture63</th>\n",
       "      <th>texture64</th>\n",
       "    </tr>\n",
       "  </thead>\n",
       "  <tbody>\n",
       "    <tr>\n",
       "      <th>0</th>\n",
       "      <td>0.007812</td>\n",
       "      <td>0.023438</td>\n",
       "      <td>0.023438</td>\n",
       "      <td>0.003906</td>\n",
       "      <td>0.011719</td>\n",
       "      <td>0.009766</td>\n",
       "      <td>0.027344</td>\n",
       "      <td>0.0</td>\n",
       "      <td>0.001953</td>\n",
       "      <td>0.033203</td>\n",
       "      <td>...</td>\n",
       "      <td>0.007812</td>\n",
       "      <td>0.0</td>\n",
       "      <td>0.00293</td>\n",
       "      <td>0.00293</td>\n",
       "      <td>0.035156</td>\n",
       "      <td>0.0</td>\n",
       "      <td>0.0</td>\n",
       "      <td>0.004883</td>\n",
       "      <td>0.0</td>\n",
       "      <td>0.025391</td>\n",
       "    </tr>\n",
       "  </tbody>\n",
       "</table>\n",
       "<p>1 rows × 192 columns</p>\n",
       "</div>"
      ],
      "text/plain": [
       "    margin1   margin2   margin3   margin4   margin5   margin6   margin7  \\\n",
       "0  0.007812  0.023438  0.023438  0.003906  0.011719  0.009766  0.027344   \n",
       "\n",
       "   margin8   margin9  margin10    ...      texture55  texture56  texture57  \\\n",
       "0      0.0  0.001953  0.033203    ...       0.007812        0.0    0.00293   \n",
       "\n",
       "   texture58  texture59  texture60  texture61  texture62  texture63  texture64  \n",
       "0    0.00293   0.035156        0.0        0.0   0.004883        0.0   0.025391  \n",
       "\n",
       "[1 rows x 192 columns]"
      ]
     },
     "execution_count": 2,
     "metadata": {},
     "output_type": "execute_result"
    }
   ],
   "source": [
    "# Swiss army knife function to organize the data\n",
    "\n",
    "def encode(train, test):\n",
    "    le = LabelEncoder().fit(train.species) \n",
    "    labels = le.transform(train.species)           # encode species strings\n",
    "    classes = list(le.classes_)                    # save column names for submission\n",
    "    test_ids = test.id                             # save test ids for submission\n",
    "    \n",
    "    train = train.drop(['species', 'id'], axis=1)  \n",
    "    test = test.drop(['id'], axis=1)\n",
    "    \n",
    "    return train, labels, test, test_ids, classes\n",
    "\n",
    "train, labels, test, test_ids, classes = encode(train, test)\n",
    "\n",
    "train.head(1)"
   ]
  },
  {
   "cell_type": "code",
   "execution_count": 3,
   "metadata": {
    "collapsed": false
   },
   "outputs": [
    {
     "name": "stdout",
     "output_type": "stream",
     "text": [
      "==============================\n",
      "KNeighborsClassifier\n",
      "****Results****\n",
      "Precision:  0.898580375853\n",
      "Recall:  0.891919191919\n",
      "Accuracy:  0.891919191919\n",
      "==============================\n",
      "SVC\n",
      "****Results****\n",
      "Precision:  0.815300943805\n",
      "Recall:  0.80101010101\n",
      "Accuracy:  0.80101010101\n",
      "==============================\n",
      "DecisionTreeClassifier\n",
      "****Results****\n",
      "Precision:  0.696273710445\n",
      "Recall:  0.681818181818\n",
      "Accuracy:  0.681818181818\n",
      "==============================\n",
      "RandomForestClassifier\n",
      "****Results****\n",
      "Precision:  0.913235810206\n",
      "Recall:  0.905050505051\n",
      "Accuracy:  0.905050505051\n",
      "==============================\n",
      "GaussianNB\n",
      "****Results****\n",
      "Precision:  0.750538610202\n",
      "Recall:  0.611111111111\n",
      "Accuracy:  0.611111111111\n",
      "==============================\n",
      "LinearDiscriminantAnalysis\n",
      "****Results****\n",
      "Precision:  0.980466671376\n",
      "Recall:  0.977777777778\n",
      "Accuracy:  0.977777777778\n",
      "==============================\n"
     ]
    }
   ],
   "source": [
    "from sklearn.metrics import accuracy_score, log_loss, recall_score, precision_recall_fscore_support, precision_score\n",
    "from sklearn.neighbors import KNeighborsClassifier\n",
    "from sklearn.svm import SVC, LinearSVC\n",
    "from sklearn.tree import DecisionTreeClassifier\n",
    "from sklearn.ensemble import RandomForestClassifier\n",
    "from sklearn.naive_bayes import GaussianNB\n",
    "from sklearn.discriminant_analysis import LinearDiscriminantAnalysis\n",
    "from sklearn.neural_network import MLPClassifier\n",
    "from sklearn.model_selection import StratifiedKFold, cross_val_predict\n",
    "\n",
    "classifiers = [\n",
    "    KNeighborsClassifier(3),\n",
    "    SVC(kernel=\"rbf\", C=0.025, probability=True),\n",
    "    DecisionTreeClassifier(),\n",
    "    RandomForestClassifier(),\n",
    "    GaussianNB(),\n",
    "    LinearDiscriminantAnalysis()\n",
    "]\n",
    "\n",
    "# Define a KFold for cross-validation\n",
    "# Guarantees all cross validations are made with the same split\n",
    "folds = StratifiedKFold(n_splits=10, random_state=None, shuffle=False)\n",
    "\n",
    "# Logging for Visual Comparison\n",
    "log_cols=[\"Classifier\", \"Accuracy\", \"Log Loss\"]\n",
    "log = pd.DataFrame(columns=log_cols)\n",
    "\n",
    "# Cross validation\n",
    "def crossValidate(classifiers, train, labels, folds):\n",
    "    for clf in classifiers:\n",
    "        name = clf.__class__.__name__\n",
    "    \n",
    "        print(\"=\"*30)\n",
    "        print(name)\n",
    "    \n",
    "        print('****Results****')\n",
    "        train_predictions = cross_val_predict(clf, train, labels, n_jobs=-1, cv=folds)#clf.predict(X_test)\n",
    "        print(\"Precision: \", precision_score(labels, train_predictions, average='macro'))\n",
    "        print(\"Recall: \", recall_score(labels, train_predictions, average='macro'))\n",
    "        print(\"Accuracy: \", accuracy_score(labels,train_predictions))\n",
    "    \n",
    "        #log_entry = pd.DataFrame([[name, acc*100, ll]], columns=log_cols)\n",
    "        #log = log.append(log_entry)\n",
    "    \n",
    "    print(\"=\"*30)\n",
    "    \n",
    "crossValidate(classifiers, train, labels, folds)"
   ]
  },
  {
   "cell_type": "code",
   "execution_count": 4,
   "metadata": {
    "collapsed": false
   },
   "outputs": [
    {
     "name": "stdout",
     "output_type": "stream",
     "text": [
      "==============================\n",
      "MLPClassifier\n",
      "****Results****\n",
      "Precision:  0.000408121620243\n",
      "Recall:  0.010101010101\n",
      "Accuracy:  0.010101010101\n",
      "==============================\n",
      "MLPClassifier\n",
      "****Results****\n",
      "Precision:  0.908468944075\n",
      "Recall:  0.89696969697\n",
      "Accuracy:  0.89696969697\n",
      "==============================\n",
      "MLPClassifier\n",
      "****Results****\n",
      "Precision:  0.942063576154\n",
      "Recall:  0.934343434343\n",
      "Accuracy:  0.934343434343\n",
      "==============================\n"
     ]
    }
   ],
   "source": [
    "MLPs = [\n",
    "    MLPClassifier(hidden_layer_sizes=(1,)),\n",
    "    MLPClassifier(hidden_layer_sizes=(99,)),\n",
    "    MLPClassifier(hidden_layer_sizes=(198,))\n",
    "]\n",
    "\n",
    "crossValidate(MLPs, train, labels, folds)"
   ]
  },
  {
   "cell_type": "code",
   "execution_count": 6,
   "metadata": {
    "collapsed": false
   },
   "outputs": [
    {
     "name": "stdout",
     "output_type": "stream",
     "text": [
      "==============================\n",
      "KNeighborsClassifier\n",
      "****Results****\n",
      "Precision:  0.976946622401\n",
      "Recall:  0.973737373737\n",
      "Accuracy:  0.973737373737\n",
      "==============================\n",
      "SVC\n",
      "****Results****\n",
      "Precision:  0.98034423489\n",
      "Recall:  0.977777777778\n",
      "Accuracy:  0.977777777778\n",
      "==============================\n",
      "MLPClassifier\n",
      "****Results****\n",
      "Precision:  0.00562768429804\n",
      "Recall:  0.0212121212121\n",
      "Accuracy:  0.0212121212121\n",
      "==============================\n",
      "MLPClassifier\n",
      "****Results****\n",
      "Precision:  0.983007228462\n",
      "Recall:  0.980808080808\n",
      "Accuracy:  0.980808080808\n",
      "==============================\n",
      "MLPClassifier\n",
      "****Results****\n",
      "Precision:  0.986164677074\n",
      "Recall:  0.984848484848\n",
      "Accuracy:  0.984848484848\n",
      "==============================\n"
     ]
    }
   ],
   "source": [
    "from sklearn.preprocessing import StandardScaler\n",
    "scaler = StandardScaler()\n",
    "scaler.fit(train)\n",
    "\n",
    "crossValidate(classifiers[:2]+MLPs, scaler.transform(train), labels, folds)"
   ]
  },
  {
   "cell_type": "code",
   "execution_count": 7,
   "metadata": {
    "collapsed": true
   },
   "outputs": [],
   "source": [
    "\n",
    "\n"
   ]
  },
  {
   "cell_type": "code",
   "execution_count": null,
   "metadata": {
    "collapsed": true
   },
   "outputs": [],
   "source": []
  }
 ],
 "metadata": {
  "kernelspec": {
   "display_name": "Python 3",
   "language": "python",
   "name": "python3"
  },
  "language_info": {
   "codemirror_mode": {
    "name": "ipython",
    "version": 3
   },
   "file_extension": ".py",
   "mimetype": "text/x-python",
   "name": "python",
   "nbconvert_exporter": "python",
   "pygments_lexer": "ipython3",
   "version": "3.5.2"
  }
 },
 "nbformat": 4,
 "nbformat_minor": 1
}
